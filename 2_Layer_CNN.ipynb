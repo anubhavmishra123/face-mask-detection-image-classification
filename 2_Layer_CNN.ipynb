{
  "nbformat": 4,
  "nbformat_minor": 0,
  "metadata": {
    "kernelspec": {
      "display_name": "Python 3",
      "language": "python",
      "name": "python3"
    },
    "language_info": {
      "codemirror_mode": {
        "name": "ipython",
        "version": 3
      },
      "file_extension": ".py",
      "mimetype": "text/x-python",
      "name": "python",
      "nbconvert_exporter": "python",
      "pygments_lexer": "ipython3",
      "version": "3.7.4"
    },
    "colab": {
      "name": "2 Layer CNN.ipynb",
      "provenance": [],
      "collapsed_sections": []
    }
  },
  "cells": [
    {
      "cell_type": "code",
      "metadata": {
        "id": "StLZozDDhHTN"
      },
      "source": [
        "import numpy as np\n",
        "\n",
        "data=np.load('/content/drive/My Drive/dataset/data.npy')\n",
        "target=np.load('/content/drive/My Drive/dataset/target.npy')\n",
        "\n",
        "#loading the save numpy arrays in the previous code"
      ],
      "execution_count": null,
      "outputs": []
    },
    {
      "cell_type": "code",
      "metadata": {
        "id": "Dn0eyp9khMyb",
        "colab": {
          "base_uri": "https://localhost:8080/",
          "height": 34
        },
        "outputId": "ef846d6c-71c3-4df5-8d99-aba2a5ff4aeb"
      },
      "source": [
        "from google.colab import drive\n",
        "drive.mount('/content/drive')"
      ],
      "execution_count": null,
      "outputs": [
        {
          "output_type": "stream",
          "text": [
            "Mounted at /content/drive\n"
          ],
          "name": "stdout"
        }
      ]
    },
    {
      "cell_type": "code",
      "metadata": {
        "id": "I9uRZ2i-hHTT"
      },
      "source": [
        "from keras.models import Sequential\n",
        "from keras.layers import Dense,Activation,Flatten,Dropout\n",
        "from keras.layers import Conv2D,MaxPooling2D\n",
        "from keras.callbacks import ModelCheckpoint\n",
        "import time\n",
        "\n",
        "model=Sequential()\n",
        "\n",
        "model.add(Conv2D(200,(3,3),input_shape=data.shape[1:]))\n",
        "model.add(Activation('relu'))\n",
        "model.add(MaxPooling2D(pool_size=(2,2)))\n",
        "\n",
        "\n",
        "model.add(Conv2D(100,(3,3)))\n",
        "model.add(Activation('relu'))\n",
        "model.add(MaxPooling2D(pool_size=(2,2)))\n",
        "\n",
        "\n",
        "model.add(Flatten())\n",
        "model.add(Dropout(0.5))\n",
        "\n",
        "model.add(Dense(50,activation='relu'))\n",
        "\n",
        "model.add(Dense(2,activation='softmax'))\n",
        "\n",
        "\n",
        "model.compile(loss='categorical_crossentropy',optimizer='adam',metrics=['accuracy'])"
      ],
      "execution_count": null,
      "outputs": []
    },
    {
      "cell_type": "code",
      "metadata": {
        "id": "d1lOoK11hHTX"
      },
      "source": [
        "from sklearn.model_selection import train_test_split\n",
        "\n",
        "train_data,test_data,train_target,test_target=train_test_split(data,target,test_size=0.1)"
      ],
      "execution_count": null,
      "outputs": []
    },
    {
      "cell_type": "code",
      "metadata": {
        "id": "48L3mwjWhHTa",
        "colab": {
          "base_uri": "https://localhost:8080/",
          "height": 978
        },
        "outputId": "eebc13c1-2ac9-4c07-96c9-f49c8d3ec5e3"
      },
      "source": [
        "start_time = time.time()\n",
        "checkpoint = ModelCheckpoint('model-{epoch:03d}.model',monitor='val_loss',verbose=0,save_best_only=True,mode='auto')\n",
        "history=model.fit(train_data,train_target,epochs=20,callbacks=[checkpoint],validation_split=0.2)\n",
        "print(\"--- %s seconds ---\" % (time.time() - start_time))"
      ],
      "execution_count": null,
      "outputs": [
        {
          "output_type": "stream",
          "text": [
            "Epoch 1/20\n",
            "31/31 [==============================] - ETA: 0s - loss: 0.6986 - accuracy: 0.5111WARNING:tensorflow:From /usr/local/lib/python3.6/dist-packages/tensorflow/python/training/tracking/tracking.py:111: Model.state_updates (from tensorflow.python.keras.engine.training) is deprecated and will be removed in a future version.\n",
            "Instructions for updating:\n",
            "This property should not be used in TensorFlow 2.0, as updates are applied automatically.\n",
            "WARNING:tensorflow:From /usr/local/lib/python3.6/dist-packages/tensorflow/python/training/tracking/tracking.py:111: Layer.updates (from tensorflow.python.keras.engine.base_layer) is deprecated and will be removed in a future version.\n",
            "Instructions for updating:\n",
            "This property should not be used in TensorFlow 2.0, as updates are applied automatically.\n",
            "INFO:tensorflow:Assets written to: model-001.model/assets\n",
            "31/31 [==============================] - 76s 2s/step - loss: 0.6986 - accuracy: 0.5111 - val_loss: 0.6825 - val_accuracy: 0.6532\n",
            "Epoch 2/20\n",
            "31/31 [==============================] - ETA: 0s - loss: 0.5815 - accuracy: 0.6697INFO:tensorflow:Assets written to: model-002.model/assets\n",
            "31/31 [==============================] - 77s 2s/step - loss: 0.5815 - accuracy: 0.6697 - val_loss: 0.5685 - val_accuracy: 0.6371\n",
            "Epoch 3/20\n",
            "31/31 [==============================] - ETA: 0s - loss: 0.3835 - accuracy: 0.8131INFO:tensorflow:Assets written to: model-003.model/assets\n",
            "31/31 [==============================] - 76s 2s/step - loss: 0.3835 - accuracy: 0.8131 - val_loss: 0.3142 - val_accuracy: 0.8831\n",
            "Epoch 4/20\n",
            "31/31 [==============================] - ETA: 0s - loss: 0.2467 - accuracy: 0.9020INFO:tensorflow:Assets written to: model-004.model/assets\n",
            "31/31 [==============================] - 76s 2s/step - loss: 0.2467 - accuracy: 0.9020 - val_loss: 0.2463 - val_accuracy: 0.9194\n",
            "Epoch 5/20\n",
            "31/31 [==============================] - ETA: 0s - loss: 0.1710 - accuracy: 0.9424INFO:tensorflow:Assets written to: model-005.model/assets\n",
            "31/31 [==============================] - 76s 2s/step - loss: 0.1710 - accuracy: 0.9424 - val_loss: 0.1925 - val_accuracy: 0.9153\n",
            "Epoch 6/20\n",
            "31/31 [==============================] - ETA: 0s - loss: 0.1199 - accuracy: 0.9586INFO:tensorflow:Assets written to: model-006.model/assets\n",
            "31/31 [==============================] - 80s 3s/step - loss: 0.1199 - accuracy: 0.9586 - val_loss: 0.1694 - val_accuracy: 0.9315\n",
            "Epoch 7/20\n",
            "31/31 [==============================] - ETA: 0s - loss: 0.1045 - accuracy: 0.9566INFO:tensorflow:Assets written to: model-007.model/assets\n",
            "31/31 [==============================] - 77s 2s/step - loss: 0.1045 - accuracy: 0.9566 - val_loss: 0.1639 - val_accuracy: 0.9194\n",
            "Epoch 8/20\n",
            "31/31 [==============================] - 75s 2s/step - loss: 0.0967 - accuracy: 0.9687 - val_loss: 0.1662 - val_accuracy: 0.9234\n",
            "Epoch 9/20\n",
            "31/31 [==============================] - 75s 2s/step - loss: 0.0858 - accuracy: 0.9747 - val_loss: 0.2125 - val_accuracy: 0.9395\n",
            "Epoch 10/20\n",
            "31/31 [==============================] - ETA: 0s - loss: 0.0647 - accuracy: 0.9808INFO:tensorflow:Assets written to: model-010.model/assets\n",
            "31/31 [==============================] - 75s 2s/step - loss: 0.0647 - accuracy: 0.9808 - val_loss: 0.1474 - val_accuracy: 0.9274\n",
            "Epoch 11/20\n",
            "31/31 [==============================] - 77s 2s/step - loss: 0.0293 - accuracy: 0.9899 - val_loss: 0.1858 - val_accuracy: 0.9395\n",
            "Epoch 12/20\n",
            "31/31 [==============================] - ETA: 0s - loss: 0.0449 - accuracy: 0.9828INFO:tensorflow:Assets written to: model-012.model/assets\n",
            "31/31 [==============================] - 76s 2s/step - loss: 0.0449 - accuracy: 0.9828 - val_loss: 0.1433 - val_accuracy: 0.9435\n",
            "Epoch 13/20\n",
            "31/31 [==============================] - 77s 2s/step - loss: 0.0430 - accuracy: 0.9869 - val_loss: 0.1756 - val_accuracy: 0.9476\n",
            "Epoch 14/20\n",
            "31/31 [==============================] - 75s 2s/step - loss: 0.0225 - accuracy: 0.9939 - val_loss: 0.1911 - val_accuracy: 0.9435\n",
            "Epoch 15/20\n",
            "31/31 [==============================] - 75s 2s/step - loss: 0.0309 - accuracy: 0.9879 - val_loss: 0.1594 - val_accuracy: 0.9476\n",
            "Epoch 16/20\n",
            "31/31 [==============================] - 74s 2s/step - loss: 0.0229 - accuracy: 0.9909 - val_loss: 0.1939 - val_accuracy: 0.9476\n",
            "Epoch 17/20\n",
            "31/31 [==============================] - 75s 2s/step - loss: 0.0442 - accuracy: 0.9859 - val_loss: 0.1446 - val_accuracy: 0.9476\n",
            "Epoch 18/20\n",
            "31/31 [==============================] - 74s 2s/step - loss: 0.0276 - accuracy: 0.9909 - val_loss: 0.2008 - val_accuracy: 0.9355\n",
            "Epoch 19/20\n",
            "31/31 [==============================] - 75s 2s/step - loss: 0.0347 - accuracy: 0.9869 - val_loss: 0.1879 - val_accuracy: 0.9395\n",
            "Epoch 20/20\n",
            "31/31 [==============================] - 74s 2s/step - loss: 0.0099 - accuracy: 0.9990 - val_loss: 0.1995 - val_accuracy: 0.9476\n",
            "--- 1566.5250945091248 seconds ---\n"
          ],
          "name": "stdout"
        }
      ]
    },
    {
      "cell_type": "code",
      "metadata": {
        "id": "DrIQ8vOPhHTf",
        "colab": {
          "base_uri": "https://localhost:8080/",
          "height": 279
        },
        "outputId": "88ec1c6f-875c-46ae-b79d-ff96aac6d16b"
      },
      "source": [
        "from matplotlib import pyplot as plt\n",
        "\n",
        "plt.plot(history.history['loss'],'r',label='training loss')\n",
        "plt.plot(history.history['val_loss'],label='validation loss')\n",
        "plt.xlabel('# epochs')\n",
        "plt.ylabel('loss')\n",
        "plt.legend()\n",
        "plt.show()"
      ],
      "execution_count": null,
      "outputs": [
        {
          "output_type": "display_data",
          "data": {
            "image/png": "[encoded data removed]",
            "text/plain": [
              "<Figure size 432x288 with 1 Axes>"
            ]
          },
          "metadata": {
            "tags": [],
            "needs_background": "light"
          }
        }
      ]
    },
    {
      "cell_type": "code",
      "metadata": {
        "id": "GfwuMdBhhHTj",
        "colab": {
          "base_uri": "https://localhost:8080/",
          "height": 279
        },
        "outputId": "dc0d8d29-a92d-4373-fb78-479e970248a3"
      },
      "source": [
        "plt.plot(history.history['accuracy'],'r',label='training accuracy')\n",
        "plt.plot(history.history['val_accuracy'],label='validation accuracy')\n",
        "plt.xlabel('# epochs')\n",
        "plt.ylabel('loss')\n",
        "plt.legend()\n",
        "plt.show()"
      ],
      "execution_count": null,
      "outputs": [
        {
          "output_type": "display_data",
          "data": {
            "image/png": "[encoded data removed]",
            "text/plain": [
              "<Figure size 432x288 with 1 Axes>"
            ]
          },
          "metadata": {
            "tags": [],
            "needs_background": "light"
          }
        }
      ]
    },
    {
      "cell_type": "code",
      "metadata": {
        "id": "05AzKhdRhHTn",
        "colab": {
          "base_uri": "https://localhost:8080/"
        },
        "outputId": "3f6d551a-d730-4174-f7c8-42ceedd1e72a"
      },
      "source": [
        "print(model.evaluate(test_data,test_target))"
      ],
      "execution_count": null,
      "outputs": [
        {
          "output_type": "stream",
          "text": [
            "5/5 [==============================] - 2s 421ms/step - loss: 0.1841 - accuracy: 0.9565\n",
            "[0.18412040174007416, 0.95652174949646]\n"
          ],
          "name": "stdout"
        }
      ]
    },
    {
      "cell_type": "code",
      "metadata": {
        "id": "7x0rpUWSpwvP"
      },
      "source": [
        ""
      ],
      "execution_count": null,
      "outputs": []
    }
  ]
}