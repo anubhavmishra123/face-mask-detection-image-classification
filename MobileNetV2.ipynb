{
  "nbformat": 4,
  "nbformat_minor": 0,
  "metadata": {
    "colab": {
      "name": "MobileNetV2.ipynb",
      "provenance": [],
      "collapsed_sections": []
    },
    "kernelspec": {
      "name": "python3",
      "display_name": "Python 3"
    }
  },
  "cells": [
    {
      "cell_type": "markdown",
      "metadata": {
        "id": "vBZEqw7mXeFL"
      },
      "source": [
        "### Import Library"
      ]
    },
    {
      "cell_type": "code",
      "metadata": {
        "id": "BUUDNyIhKP6W"
      },
      "source": [
        "from tensorflow.keras.preprocessing.image import ImageDataGenerator\n",
        "from tensorflow.keras.applications import MobileNetV2\n",
        "from tensorflow.keras.layers import AveragePooling2D\n",
        "from tensorflow.keras.layers import Dropout\n",
        "from tensorflow.keras.layers import Flatten\n",
        "from tensorflow.keras.layers import Dense\n",
        "from tensorflow.keras.layers import Input\n",
        "from tensorflow.keras.models import Model\n",
        "from tensorflow.keras.optimizers import Adam\n",
        "from tensorflow.keras.applications.mobilenet_v2 import preprocess_input\n",
        "from tensorflow.keras.preprocessing.image import img_to_array\n",
        "from tensorflow.keras.preprocessing.image import load_img\n",
        "from tensorflow.keras.utils import to_categorical\n",
        "from sklearn.preprocessing import LabelBinarizer\n",
        "from sklearn.model_selection import train_test_split\n",
        "from sklearn.metrics import classification_report\n",
        "from imutils import paths\n",
        "import matplotlib.pyplot as plt\n",
        "import numpy as np\n",
        "import os\n",
        "import time"
      ],
      "execution_count": null,
      "outputs": []
    },
    {
      "cell_type": "code",
      "metadata": {
        "id": "FTP_VpOwKQfT",
        "colab": {
          "base_uri": "https://localhost:8080/",
          "height": 34
        },
        "outputId": "ac90b2a8-e5e0-43ce-9aca-ab31f8476b57"
      },
      "source": [
        "INIT_LR = 1e-4\n",
        "EPOCHS = 20\n",
        "BS = 32\n",
        "from google.colab import drive\n",
        "drive.mount('/content/drive')\n"
      ],
      "execution_count": null,
      "outputs": [
        {
          "output_type": "stream",
          "text": [
            "Mounted at /content/drive\n"
          ],
          "name": "stdout"
        }
      ]
    },
    {
      "cell_type": "code",
      "metadata": {
        "id": "iLt239_ZKUPu"
      },
      "source": [
        "DIRECTORY = r\"/content/drive/My Drive/dataset\"\n",
        "CATEGORIES = [\"with_mask\", \"without_mask\"]"
      ],
      "execution_count": null,
      "outputs": []
    },
    {
      "cell_type": "code",
      "metadata": {
        "id": "RzJnDDcFKYWD"
      },
      "source": [
        "data = []\n",
        "labels = []\n",
        "\n",
        "for category in CATEGORIES:\n",
        "    path = os.path.join(DIRECTORY, category)\n",
        "    for img in os.listdir(path):\n",
        "    \timg_path = os.path.join(path, img)\n",
        "    \timage = load_img(img_path, target_size=(224, 224))\n",
        "    \timage = img_to_array(image)\n",
        "    \timage = preprocess_input(image)\n",
        "\n",
        "    \tdata.append(image)\n",
        "    \tlabels.append(category)\n"
      ],
      "execution_count": null,
      "outputs": []
    },
    {
      "cell_type": "code",
      "metadata": {
        "id": "Y_jN9nbQLOvJ"
      },
      "source": [
        "lb = LabelBinarizer()\n",
        "labels = lb.fit_transform(labels)\n",
        "labels = to_categorical(labels)\n",
        "\n",
        "data = np.array(data, dtype=\"float32\")\n",
        "labels = np.array(labels)\n",
        "\n",
        "(trainX, testX, trainY, testY) = train_test_split(data, labels,test_size=0.8, random_state=0)\n",
        "(validX,TestX,validY,TestY)=train_test_split(testX,testY,test_size=0.7, random_state=0)"
      ],
      "execution_count": null,
      "outputs": []
    },
    {
      "cell_type": "code",
      "metadata": {
        "id": "nbg1pBK9Sqiv",
        "colab": {
          "base_uri": "https://localhost:8080/",
          "height": 67
        },
        "outputId": "c0ecf817-13ff-442b-cfb1-c81944b78cc8"
      },
      "source": [
        "print(trainX.shape)\n",
        "print(testX.shape)\n",
        "print(testY.shape)"
      ],
      "execution_count": null,
      "outputs": [
        {
          "output_type": "stream",
          "text": [
            "(275, 224, 224, 3)\n",
            "(1101, 224, 224, 3)\n",
            "(1101, 2)\n"
          ],
          "name": "stdout"
        }
      ]
    },
    {
      "cell_type": "code",
      "metadata": {
        "id": "qz4PBjoJXLbx",
        "colab": {
          "base_uri": "https://localhost:8080/",
          "height": 50
        },
        "outputId": "550dcde8-7ec1-4d90-c35e-ca47835d0d7c"
      },
      "source": [
        "print(validX.shape)\n",
        "print(TestX.shape)"
      ],
      "execution_count": null,
      "outputs": [
        {
          "output_type": "stream",
          "text": [
            "(330, 224, 224, 3)\n",
            "(771, 224, 224, 3)\n"
          ],
          "name": "stdout"
        }
      ]
    },
    {
      "cell_type": "code",
      "metadata": {
        "id": "ry2acBBDLSi6"
      },
      "source": [
        "aug = ImageDataGenerator(\n",
        "\trotation_range=20,\n",
        "\tzoom_range=0.15,\n",
        "\twidth_shift_range=0.2,\n",
        "\theight_shift_range=0.2,\n",
        "\tshear_range=0.15,\n",
        "\thorizontal_flip=True,\n",
        "\tfill_mode=\"nearest\")"
      ],
      "execution_count": null,
      "outputs": []
    },
    {
      "cell_type": "code",
      "metadata": {
        "id": "6sVs5c4PXKcH"
      },
      "source": [
        ""
      ],
      "execution_count": null,
      "outputs": []
    },
    {
      "cell_type": "code",
      "metadata": {
        "id": "eytzxkvzLV43",
        "colab": {
          "base_uri": "https://localhost:8080/",
          "height": 67
        },
        "outputId": "6dd43918-d89f-48bf-c78a-be7f99a7bbc3"
      },
      "source": [
        "baseModel = MobileNetV2(weights=\"imagenet\", include_top=False,\n",
        "\tinput_tensor=Input(shape=(224, 224, 3)))"
      ],
      "execution_count": null,
      "outputs": [
        {
          "output_type": "stream",
          "text": [
            "WARNING:tensorflow:`input_shape` is undefined or non-square, or `rows` is not in [96, 128, 160, 192, 224]. Weights for input shape (224, 224) will be loaded as the default.\n",
            "Downloading data from https://storage.googleapis.com/tensorflow/keras-applications/mobilenet_v2/mobilenet_v2_weights_tf_dim_ordering_tf_kernels_1.0_224_no_top.h5\n",
            "9412608/9406464 [==============================] - 0s 0us/step\n"
          ],
          "name": "stdout"
        }
      ]
    },
    {
      "cell_type": "code",
      "metadata": {
        "id": "n_FSODa7LZaM"
      },
      "source": [
        "headModel = baseModel.output\n",
        "headModel = AveragePooling2D(pool_size=(7, 7))(headModel)\n",
        "headModel = Flatten(name=\"flatten\")(headModel)\n",
        "headModel = Dense(128, activation=\"relu\")(headModel)\n",
        "headModel = Dropout(0.5)(headModel)\n",
        "headModel = Dense(2, activation=\"softmax\")(headModel)"
      ],
      "execution_count": null,
      "outputs": []
    },
    {
      "cell_type": "code",
      "metadata": {
        "id": "1PbHB3sYLhj7"
      },
      "source": [
        "model = Model(inputs=baseModel.input, outputs=headModel)"
      ],
      "execution_count": null,
      "outputs": []
    },
    {
      "cell_type": "code",
      "metadata": {
        "id": "vOTLoeNkLkM2"
      },
      "source": [
        "for layer in baseModel.layers:\n",
        "\tlayer.trainable = False\n"
      ],
      "execution_count": null,
      "outputs": []
    },
    {
      "cell_type": "code",
      "metadata": {
        "id": "xXcmWRTjLpIG"
      },
      "source": [
        "opt = Adam(lr=INIT_LR, decay=INIT_LR / EPOCHS)\n",
        "model.compile(loss=\"binary_crossentropy\", optimizer=opt,\n",
        "\tmetrics=[\"accuracy\"])\n"
      ],
      "execution_count": null,
      "outputs": []
    },
    {
      "cell_type": "code",
      "metadata": {
        "id": "2WjRIxhILrl3",
        "colab": {
          "base_uri": "https://localhost:8080/",
          "height": 722
        },
        "outputId": "df560adf-5575-4fd9-80fe-307b3a2b8c5e"
      },
      "source": [
        "start_time = time.time()\n",
        "print(\"[INFO] training head...\")\n",
        "H = model.fit(\n",
        "\taug.flow(trainX, trainY, batch_size=BS),\n",
        "\tsteps_per_epoch=len(trainX) // BS,\n",
        "\tvalidation_data=(validX, validY),\n",
        "\tvalidation_steps=len(validX) // BS,\n",
        "\tepochs=EPOCHS)\n",
        "print(\"--- %s seconds ---\" % (time.time() - start_time))"
      ],
      "execution_count": null,
      "outputs": [
        {
          "output_type": "stream",
          "text": [
            "[INFO] training head...\n",
            "Epoch 1/20\n",
            "8/8 [==============================] - 20s 3s/step - loss: 0.3570 - accuracy: 0.8395 - val_loss: 0.2123 - val_accuracy: 0.9545\n",
            "Epoch 2/20\n",
            "8/8 [==============================] - 20s 2s/step - loss: 0.2235 - accuracy: 0.9342 - val_loss: 0.1555 - val_accuracy: 0.9697\n",
            "Epoch 3/20\n",
            "8/8 [==============================] - 20s 2s/step - loss: 0.2031 - accuracy: 0.9383 - val_loss: 0.1231 - val_accuracy: 0.9758\n",
            "Epoch 4/20\n",
            "8/8 [==============================] - 21s 3s/step - loss: 0.1408 - accuracy: 0.9671 - val_loss: 0.1070 - val_accuracy: 0.9818\n",
            "Epoch 5/20\n",
            "8/8 [==============================] - 20s 2s/step - loss: 0.1207 - accuracy: 0.9588 - val_loss: 0.0890 - val_accuracy: 0.9818\n",
            "Epoch 6/20\n",
            "8/8 [==============================] - 20s 2s/step - loss: 0.1025 - accuracy: 0.9712 - val_loss: 0.0779 - val_accuracy: 0.9818\n",
            "Epoch 7/20\n",
            "8/8 [==============================] - 20s 2s/step - loss: 0.0908 - accuracy: 0.9835 - val_loss: 0.0704 - val_accuracy: 0.9848\n",
            "Epoch 8/20\n",
            "8/8 [==============================] - 20s 3s/step - loss: 0.0878 - accuracy: 0.9753 - val_loss: 0.0651 - val_accuracy: 0.9848\n",
            "Epoch 9/20\n",
            "8/8 [==============================] - 20s 2s/step - loss: 0.0744 - accuracy: 0.9753 - val_loss: 0.0595 - val_accuracy: 0.9848\n",
            "Epoch 10/20\n",
            "8/8 [==============================] - 20s 2s/step - loss: 0.0595 - accuracy: 0.9918 - val_loss: 0.0542 - val_accuracy: 0.9879\n",
            "Epoch 11/20\n",
            "8/8 [==============================] - 20s 2s/step - loss: 0.0740 - accuracy: 0.9877 - val_loss: 0.0506 - val_accuracy: 0.9879\n",
            "Epoch 12/20\n",
            "8/8 [==============================] - 20s 3s/step - loss: 0.0677 - accuracy: 0.9794 - val_loss: 0.0473 - val_accuracy: 0.9879\n",
            "Epoch 13/20\n",
            "8/8 [==============================] - 20s 3s/step - loss: 0.0424 - accuracy: 1.0000 - val_loss: 0.0450 - val_accuracy: 0.9879\n",
            "Epoch 14/20\n",
            "8/8 [==============================] - 20s 3s/step - loss: 0.0419 - accuracy: 0.9961 - val_loss: 0.0435 - val_accuracy: 0.9848\n",
            "Epoch 15/20\n",
            "8/8 [==============================] - 20s 2s/step - loss: 0.0589 - accuracy: 0.9835 - val_loss: 0.0439 - val_accuracy: 0.9848\n",
            "Epoch 16/20\n",
            "8/8 [==============================] - 20s 2s/step - loss: 0.0380 - accuracy: 0.9918 - val_loss: 0.0421 - val_accuracy: 0.9848\n",
            "Epoch 17/20\n",
            "8/8 [==============================] - 20s 2s/step - loss: 0.0395 - accuracy: 0.9918 - val_loss: 0.0387 - val_accuracy: 0.9879\n",
            "Epoch 18/20\n",
            "8/8 [==============================] - 20s 3s/step - loss: 0.0342 - accuracy: 0.9918 - val_loss: 0.0364 - val_accuracy: 0.9879\n",
            "Epoch 19/20\n",
            "8/8 [==============================] - 20s 2s/step - loss: 0.0402 - accuracy: 0.9918 - val_loss: 0.0350 - val_accuracy: 0.9879\n",
            "Epoch 20/20\n",
            "8/8 [==============================] - 20s 2s/step - loss: 0.0477 - accuracy: 0.9835 - val_loss: 0.0346 - val_accuracy: 0.9879\n",
            "--- 433.84504747390747 seconds ---\n"
          ],
          "name": "stdout"
        }
      ]
    },
    {
      "cell_type": "code",
      "metadata": {
        "id": "7RlIg1FzLtxn"
      },
      "source": [
        "\n",
        "predIdxs = model.predict(TestX, batch_size=BS)"
      ],
      "execution_count": null,
      "outputs": []
    },
    {
      "cell_type": "code",
      "metadata": {
        "id": "nhMjFR3fLvyY"
      },
      "source": [
        "predIdxs = np.argmax(predIdxs, axis=1)"
      ],
      "execution_count": null,
      "outputs": []
    },
    {
      "cell_type": "code",
      "metadata": {
        "id": "118anERELylb",
        "colab": {
          "base_uri": "https://localhost:8080/"
        },
        "outputId": "f1a932c4-80fa-42de-c0a7-37fb7961b6ff"
      },
      "source": [
        "print(classification_report(TestY.argmax(axis=1), predIdxs,\n",
        "\ttarget_names=lb.classes_))\n",
        "from sklearn.metrics import confusion_matrix\n",
        "confusion_matrix(TestY.argmax(axis=1),predIdxs)\n"
      ],
      "execution_count": null,
      "outputs": [
        {
          "output_type": "stream",
          "text": [
            "              precision    recall  f1-score   support\n",
            "\n",
            "   with_mask       1.00      0.99      1.00       396\n",
            "without_mask       0.99      1.00      1.00       375\n",
            "\n",
            "    accuracy                           1.00       771\n",
            "   macro avg       1.00      1.00      1.00       771\n",
            "weighted avg       1.00      1.00      1.00       771\n",
            "\n"
          ],
          "name": "stdout"
        },
        {
          "output_type": "execute_result",
          "data": {
            "text/plain": [
              "array([[393,   3],\n",
              "       [  0, 375]])"
            ]
          },
          "metadata": {
            "tags": []
          },
          "execution_count": 18
        }
      ]
    },
    {
      "cell_type": "code",
      "metadata": {
        "id": "_QSlrN0KQ3oH",
        "colab": {
          "base_uri": "https://localhost:8080/"
        },
        "outputId": "62e651c1-67ca-4632-802f-877d21b208c6"
      },
      "source": [
        "from sklearn.metrics import accuracy_score\n",
        "accuracy_score(TestY.argmax(axis=1),predIdxs)"
      ],
      "execution_count": null,
      "outputs": [
        {
          "output_type": "execute_result",
          "data": {
            "text/plain": [
              "0.9961089494163424"
            ]
          },
          "metadata": {
            "tags": []
          },
          "execution_count": 19
        }
      ]
    },
    {
      "cell_type": "markdown",
      "metadata": {
        "id": "ivXVd2Gb13B8"
      },
      "source": [
        "# New Section"
      ]
    },
    {
      "cell_type": "code",
      "metadata": {
        "id": "1Tjp6VgIL7gt"
      },
      "source": [
        "model.save(\"mask_detector.model\", save_format=\"h5\")"
      ],
      "execution_count": null,
      "outputs": []
    },
    {
      "cell_type": "code",
      "metadata": {
        "id": "aTMigyRlL-eK",
        "colab": {
          "base_uri": "https://localhost:8080/",
          "height": 299
        },
        "outputId": "e83a1386-a52e-456d-fe35-0a53cdd10e15"
      },
      "source": [
        "N = EPOCHS\n",
        "plt.style.use(\"ggplot\")\n",
        "plt.figure()\n",
        "plt.plot(np.arange(0, N), H.history[\"loss\"], label=\"train_loss\")\n",
        "plt.plot(np.arange(0, N), H.history[\"val_loss\"], label=\"val_loss\")\n",
        "\n",
        "plt.title(\"Training Loss \")\n",
        "plt.xlabel(\"Epoch #\")\n",
        "plt.ylabel(\"Loss\")\n",
        "plt.legend()\n",
        "plt.savefig(\"plot.png\")"
      ],
      "execution_count": null,
      "outputs": [
        {
          "output_type": "display_data",
          "data": {
            "image/png": "[encoded data removed]",
            "text/plain": [
              "<Figure size 432x288 with 1 Axes>"
            ]
          },
          "metadata": {
            "tags": []
          }
        }
      ]
    },
    {
      "cell_type": "code",
      "metadata": {
        "id": "S7P0bnjsN5nm",
        "colab": {
          "base_uri": "https://localhost:8080/",
          "height": 299
        },
        "outputId": "9e0af232-eb19-410e-c63b-6a091e9b13ec"
      },
      "source": [
        "N = EPOCHS\n",
        "plt.style.use(\"ggplot\")\n",
        "plt.figure()\n",
        "plt.plot(np.arange(0, N), H.history[\"accuracy\"], label=\"train_acc\")\n",
        "plt.plot(np.arange(0, N), H.history[\"val_accuracy\"], label=\"val_acc\")\n",
        "plt.title(\"Accuracy\")\n",
        "plt.xlabel(\"Epoch #\")\n",
        "plt.ylabel(\"Accuracy\")\n",
        "plt.legend()\n",
        "plt.savefig(\"plot.png\")"
      ],
      "execution_count": null,
      "outputs": [
        {
          "output_type": "display_data",
          "data": {
            "image/png": "[encoded data removed]",
            "text/plain": [
              "<Figure size 432x288 with 1 Axes>"
            ]
          },
          "metadata": {
            "tags": []
          }
        }
      ]
    },
    {
      "cell_type": "code",
      "metadata": {
        "id": "7HtCVXOxbB3-"
      },
      "source": [
        ""
      ],
      "execution_count": null,
      "outputs": []
    }
  ]
}